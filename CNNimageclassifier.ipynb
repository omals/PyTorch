{
  "nbformat": 4,
  "nbformat_minor": 0,
  "metadata": {
    "colab": {
      "provenance": [],
      "gpuType": "T4"
    },
    "kernelspec": {
      "name": "python3",
      "display_name": "Python 3"
    },
    "language_info": {
      "name": "python"
    },
    "accelerator": "GPU"
  },
  "cells": [
    {
      "cell_type": "markdown",
      "source": [
        "# Check for GPU in the colab using tensorflow"
      ],
      "metadata": {
        "id": "GWyAxsYmdw9x"
      }
    },
    {
      "cell_type": "code",
      "execution_count": null,
      "metadata": {
        "colab": {
          "base_uri": "https://localhost:8080/"
        },
        "id": "VLGKYemWO3Eo",
        "outputId": "22a4061a-148a-4472-eccd-959a45b9dd8d"
      },
      "outputs": [
        {
          "output_type": "stream",
          "name": "stdout",
          "text": [
            "Found GPU at: /device:GPU:0\n"
          ]
        }
      ],
      "source": [
        "import tensorflow as tf\n",
        "device_name = tf.test.gpu_device_name()\n",
        "if device_name != '/device:GPU:0':\n",
        "  raise SystemError('GPU device not found')\n",
        "print('Found GPU at: {}'.format(device_name))"
      ]
    },
    {
      "cell_type": "markdown",
      "source": [
        "# To get the allocated GPU spec data in google Colab"
      ],
      "metadata": {
        "id": "98hzoXY1d8v4"
      }
    },
    {
      "cell_type": "code",
      "source": [
        "!nvidia-smi"
      ],
      "metadata": {
        "colab": {
          "base_uri": "https://localhost:8080/"
        },
        "id": "AwrSzRsMdRy6",
        "outputId": "004a80dd-dc6f-4546-f2d4-bbc4dc2045f8"
      },
      "execution_count": null,
      "outputs": [
        {
          "output_type": "stream",
          "name": "stdout",
          "text": [
            "Wed Jun  7 07:37:53 2023       \n",
            "+-----------------------------------------------------------------------------+\n",
            "| NVIDIA-SMI 525.85.12    Driver Version: 525.85.12    CUDA Version: 12.0     |\n",
            "|-------------------------------+----------------------+----------------------+\n",
            "| GPU  Name        Persistence-M| Bus-Id        Disp.A | Volatile Uncorr. ECC |\n",
            "| Fan  Temp  Perf  Pwr:Usage/Cap|         Memory-Usage | GPU-Util  Compute M. |\n",
            "|                               |                      |               MIG M. |\n",
            "|===============================+======================+======================|\n",
            "|   0  Tesla T4            Off  | 00000000:00:04.0 Off |                    0 |\n",
            "| N/A   47C    P0    26W /  70W |    387MiB / 15360MiB |      0%      Default |\n",
            "|                               |                      |                  N/A |\n",
            "+-------------------------------+----------------------+----------------------+\n",
            "                                                                               \n",
            "+-----------------------------------------------------------------------------+\n",
            "| Processes:                                                                  |\n",
            "|  GPU   GI   CI        PID   Type   Process name                  GPU Memory |\n",
            "|        ID   ID                                                   Usage      |\n",
            "|=============================================================================|\n",
            "+-----------------------------------------------------------------------------+\n"
          ]
        }
      ]
    },
    {
      "cell_type": "markdown",
      "source": [
        "# Building a Neural Network with PyTorch"
      ],
      "metadata": {
        "id": "AmLk4oF4du0P"
      }
    },
    {
      "cell_type": "code",
      "source": [
        "\n",
        "#imported the dependencies\n",
        "\n",
        "import torch                                  \n",
        "import torchvision\n",
        "\n",
        "from torch import nn , save,load                #neural network class: neural network methods \n",
        "from torch.optim import Adam                    #Optimiser class\n",
        "from torch.utils.data import DataLoader         #Load the data from pytorch\n",
        "\n",
        "from torchvision import datasets                #datasets\n",
        "from torchvision.transforms import ToTensor     #convert images into tensors to work with pytorch\n",
        "\n",
        "#download the dataset: \"MNIST\" Image classification dataset 10 classes 0-9 using datasets\n",
        "\n",
        "train = datasets.MNIST(root=\"data\", download=True,train=True, transform=ToTensor())   \n",
        "                      #'root=\"data\"' where to download folder name 'data'\n",
        "                      #'download = True' to download the data to the folder\n",
        "                      #'train=True' to train partition\n",
        "                      #'transform=ToTensor' to specify any of the transition to be applied\n",
        "\n",
        "dataset = DataLoader(train, 32)                #pass the data downloaded to the loader and specify how to convert it to batches of images\n",
        "                      #batches of 32 images : image shape : 1,28,28 pixels\n",
        "\n",
        "#create the neural network Image classifier class\n",
        "\n",
        "class ImageClassifier(nn.Module):              #class created sub classified from neural network.module class\n",
        "  #two functions\n",
        "  def __init__(self):                              #definite function\n",
        "    #subclass this model\n",
        "    super().__init__()\n",
        "    #create a model where the layers are stack overed\n",
        "    self.model = nn.Sequential(                #creating new attribute using Sequential API from pytorch.nn\n",
        "        #1st convolutional neural network layer\n",
        "        nn.Conv2d(1 , 32,(3,3)),               #convolutional neural network(input kernal = 1(black and white images), filter = 32, filter_size = (3X3)) 3 by 3 of 32 filters\n",
        "        nn.ReLU(),                             #Activations to handle with the non-linearities\n",
        "        #2nd Convolutional layer\n",
        "        nn.Conv2d(32,64,(3,3)),                #input=32 , output=64\n",
        "        nn.ReLU(),\n",
        "        nn.Conv2d(64,64,(3,3)),\n",
        "        nn.ReLU(),\n",
        "        #by applying each on of these layers with these specific parameters will shave off 2 pixels of height and width of each image\n",
        "        #to adjust that that in the output layer we apply a linear layer\n",
        "\n",
        "        nn.Flatten(),                          #1st flatten the layers\n",
        "        nn.Linear(64*(28-6)*(28-6), 10)        #then create applying linear layers passing the input shape\n",
        "                 #(last convolutional final output*(pixel_size-shave_off_size(2pixceleach*3convolutions = 6))*(pixel_size-shave_off_size(2pixceleach*3convolutions = 6)),output shape need to be the no. of classes)\n",
        "    )\n",
        "\n",
        "  def forward(self,x):                         #forward function call method inside tensor flow\n",
        "    #take in current instance and x data\n",
        "    return self.model(x)                       #return the value\n",
        "\n",
        "#Create an instance of the neural network,loss and optimizer\n",
        "\n",
        "clf = ImageClassifier().to('cuda')             #instance of neural network\n",
        "opt = Adam(clf.parameters(), lr = 1e-3)        #instanciating the optimizer with the parameters and learning how fast or slow\n",
        "loss_fn= nn.CrossEntropyLoss()                 #loss function\n",
        "\n",
        "#Training flow\n",
        "if __name__ == \"__main__\":\n",
        "  for epoch in range(10):                      #training for 10 epochs\n",
        "    for batch in dataset:                      #looping through the dataset loaded\n",
        "      X,y = batch                              #unbatch the data\n",
        "      X,y = X.to('cuda'),y.to('cuda')          #send X and y value to GPU again\n",
        "      yhat = clf(X)                            #make predictions\n",
        "      loss = loss_fn(yhat,y)                   #calculate loss\n",
        "\n",
        "      #In Tensor flow go compile and got fit\n",
        "      #apply backprop\n",
        "\n",
        "      opt.zero_grad()                          #zero grade any of the exsisting gradients\n",
        "      loss.backward()                          #calculate the gradients\n",
        "      opt.step()                               #Apply gradient descent\n",
        "    print(f\"Epoch: {epoch} Loss is {loss}\")    #printing the loss and epoch\n",
        "\n",
        "with open('model_state.pt','wb') as f:\n",
        "  save(clf.state_dict(),f)\n"
      ],
      "metadata": {
        "colab": {
          "base_uri": "https://localhost:8080/"
        },
        "id": "1Y0X_iv-duW4",
        "outputId": "58d4165c-d6c6-4c9e-b890-bb596fb7efdd"
      },
      "execution_count": null,
      "outputs": [
        {
          "output_type": "stream",
          "name": "stdout",
          "text": [
            "Epoch: 0 Loss is 0.04301353916525841\n",
            "Epoch: 1 Loss is 0.008015292696654797\n",
            "Epoch: 2 Loss is 0.0006723475526086986\n",
            "Epoch: 3 Loss is 5.037411392549984e-05\n",
            "Epoch: 4 Loss is 8.47060073283501e-06\n",
            "Epoch: 5 Loss is 2.8300632038735785e-05\n",
            "Epoch: 6 Loss is 7.934841050882824e-07\n",
            "Epoch: 7 Loss is 1.5385203369078226e-06\n",
            "Epoch: 8 Loss is 1.1287438610452227e-06\n",
            "Epoch: 9 Loss is 0.00011815538891823962\n"
          ]
        }
      ]
    },
    {
      "cell_type": "code",
      "source": [
        "import torch \n",
        "import PIL\n",
        "from PIL import Image\n",
        "from torch import nn, save, load\n",
        "from torch.optim import Adam\n",
        "from torch.utils.data import DataLoader\n",
        "from torchvision import datasets\n",
        "from torchvision.transforms import ToTensor\n",
        "\n",
        "# Get data \n",
        "train = datasets.MNIST(root=\"data\", download=True, train=True, transform=ToTensor())\n",
        "dataset = DataLoader(train, 32)\n",
        "#1,28,28 - classes 0-9\n",
        "\n",
        "# Image Classifier Neural Network\n",
        "class ImageClassifier(nn.Module): \n",
        "    def __init__(self):\n",
        "        super().__init__()\n",
        "        self.model = nn.Sequential(\n",
        "            nn.Conv2d(1, 32, (3,3)), \n",
        "            nn.ReLU(),\n",
        "            nn.Conv2d(32, 64, (3,3)), \n",
        "            nn.ReLU(),\n",
        "            nn.Conv2d(64, 64, (3,3)), \n",
        "            nn.ReLU(),\n",
        "            nn.Flatten(), \n",
        "            nn.Linear(64*(28-6)*(28-6), 10)  \n",
        "        )\n",
        "\n",
        "    def forward(self, x): \n",
        "        return self.model(x)\n",
        "\n",
        "# Instance of the neural network, loss, optimizer \n",
        "clf = ImageClassifier().to('cuda')\n",
        "opt = Adam(clf.parameters(), lr=1e-3)\n",
        "loss_fn = nn.CrossEntropyLoss() \n",
        "\n",
        "# Training flow \n",
        "if __name__ == \"__main__\": \n",
        "   with open('model_state.pt','rb') as f:\n",
        "    clf.load_state_dict(load(f))\n",
        "\n",
        "   img = Image.open('img_3.jpg')\n",
        "   img_tensor = ToTensor()(img).unsqueeze(0).to('cuda')\n",
        "\n",
        "   print(torch.argmax(clf(img_tensor)))"
      ],
      "metadata": {
        "colab": {
          "base_uri": "https://localhost:8080/"
        },
        "id": "q6_p3k49Jh7r",
        "outputId": "1483fc5d-77a0-48e2-9896-f3c9aae6356c"
      },
      "execution_count": 6,
      "outputs": [
        {
          "output_type": "stream",
          "name": "stdout",
          "text": [
            "tensor(9, device='cuda:0')\n"
          ]
        }
      ]
    },
    {
      "cell_type": "code",
      "source": [],
      "metadata": {
        "id": "OmoJwN4ZaSnY"
      },
      "execution_count": null,
      "outputs": []
    }
  ]
}